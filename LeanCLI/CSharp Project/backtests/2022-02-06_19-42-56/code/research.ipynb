{
    "cells": [
        {
            "cell_type": "markdown",
            "metadata": {},
            "source": [
                "![QuantConnect Logo](https://cdn.quantconnect.com/web/i/icon.png)\n",
                "<hr>"
            ]
        },
        {
            "cell_type": "code",
            "execution_count": null,
            "metadata": {},
            "outputs": [],
            "source": [
                "// We need to load assemblies at the start in their own cell\n",
                "#load \"../Initialize.csx\""
            ]
        },
        {
            "cell_type": "code",
            "execution_count": null,
            "metadata": {},
            "outputs": [],
            "source": [
                "// QuantBook C# Research Environment\n",
                "// For more information see https://www.quantconnect.com/docs/research/overview\n",
                "#load \"../QuantConnect.csx\"\n",
                "\n",
                "using QuantConnect;\n",
                "using QuantConnect.Data;\n",
                "using QuantConnect.Research;\n",
                "using QuantConnect.Algorithm;\n",
                "\n",
                "var qb = new QuantBook();\n",
                "var spy = qb.AddEquity(\"SPY\");\n",
                "var history = qb.History(qb.Securities.Keys, 360, Resolution.Daily);"
            ]
        },
        {
            "cell_type": "code",
            "execution_count": null,
            "metadata": {},
            "outputs": [],
            "source": [
                "foreach (var slice in history.Take(5)) {\n",
                "    Console.WriteLine(slice.Bars[spy.Symbol].ToString());\n",
                "}"
            ]
        },
        {
            "cell_type": "code",
            "execution_count": null,
            "metadata": {},
            "outputs": [],
            "source": []
        }
    ],
    "metadata": {
        "kernelspec": {
            "display_name": ".NET (C#)",
            "language": "C#",
            "name": ".net-csharp"
        },
        "language_info": {
            "file_extension": ".cs",
            "mimetype": "text/x-csharp",
            "name": "C#",
            "pygments_lexer": "csharp",
            "version": "9.0"
        }
    },
    "nbformat": 4,
    "nbformat_minor": 2
}
